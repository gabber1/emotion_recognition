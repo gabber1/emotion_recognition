{
 "cells": [
  {
   "cell_type": "code",
   "execution_count": 1,
   "metadata": {},
   "outputs": [
    {
     "name": "stderr",
     "output_type": "stream",
     "text": [
      "C:\\Users\\gabri\\Anaconda3\\envs\\speech2emotion\\lib\\site-packages\\sklearn\\cross_validation.py:41: DeprecationWarning: This module was deprecated in version 0.18 in favor of the model_selection module into which all the refactored classes and functions are moved. Also note that the interface of the new CV iterators are different from that of this module. This module will be removed in 0.20.\n",
      "  \"This module will be removed in 0.20.\", DeprecationWarning)\n",
      "C:\\Users\\gabri\\Anaconda3\\envs\\speech2emotion\\lib\\site-packages\\sklearn\\grid_search.py:42: DeprecationWarning: This module was deprecated in version 0.18 in favor of the model_selection module into which all the refactored classes and functions are moved. This module will be removed in 0.20.\n",
      "  DeprecationWarning)\n",
      "C:\\Users\\gabri\\Anaconda3\\envs\\speech2emotion\\lib\\site-packages\\h5py\\__init__.py:36: FutureWarning: Conversion of the second argument of issubdtype from `float` to `np.floating` is deprecated. In future, it will be treated as `np.float64 == np.dtype(float).type`.\n",
      "  from ._conv import register_converters as _register_converters\n",
      "Using TensorFlow backend.\n"
     ]
    }
   ],
   "source": [
    "import os\n",
    "import sys\n",
    "import csv\n",
    "import wave\n",
    "import copy\n",
    "import math\n",
    "\n",
    "import numpy as np\n",
    "import pandas as pd\n",
    "\n",
    "from sklearn.preprocessing import label_binarize\n",
    "from sklearn.cross_validation import StratifiedKFold, KFold, train_test_split\n",
    "from sklearn.svm import OneClassSVM, SVC\n",
    "from sklearn.ensemble import RandomForestClassifier\n",
    "from sklearn.grid_search import GridSearchCV\n",
    "from sklearn.manifold import TSNE\n",
    "from sklearn.decomposition import PCA\n",
    "\n",
    "from keras.models import Sequential, Model\n",
    "from keras.layers.core import Dense, Activation\n",
    "from keras.layers import LSTM, Input, Merge\n",
    "from keras.layers.wrappers import TimeDistributed\n",
    "from keras.optimizers import SGD, Adam, RMSprop\n",
    "from keras.callbacks import EarlyStopping, ModelCheckpoint\n",
    "\n",
    "sys.path.append(\"../\")\n",
    "from utilities.utils import *\n",
    "\n",
    "import matplotlib\n",
    "import matplotlib.pyplot as plt\n",
    "import matplotlib.ticker as ticker\n",
    "%matplotlib inline\n",
    "\n",
    "from IPython.display import clear_output"
   ]
  },
  {
   "cell_type": "code",
   "execution_count": 2,
   "metadata": {},
   "outputs": [
    {
     "name": "stdout",
     "output_type": "stream",
     "text": [
      "----------------------------------------------------------------------------------------------------\n",
      "available_emotions            ['ang' 'exc' 'neu' 'sad']                                             \n",
      "conf_matrix_prefix            iemocap                                                               \n",
      "framerate                     16000                                                                 \n",
      "path_to_data                  C:\\Users\\gabri\\Documents\\Deeplearning\\somegit\\forked\\emotion_recogniti\n",
      "path_to_features              C:\\Users\\gabri\\Documents\\Deeplearning\\somegit\\forked\\emotion_recogniti\n",
      "sessions                      ['Session1', 'Session2', 'Session3', 'Session4', 'Session5']          \n",
      "types                         {1: <class 'numpy.int8'>, 2: <class 'numpy.int16'>, 4: <class 'numpy.i\n",
      "----------------------------------------------------------------------------------------------------\n"
     ]
    }
   ],
   "source": [
    "params = Constants()\n",
    "print(params)"
   ]
  },
  {
   "cell_type": "code",
   "execution_count": 3,
   "metadata": {},
   "outputs": [],
   "source": [
    "batch_size = 64\n",
    "nb_feat = 34\n",
    "nb_class = 4\n",
    "nb_epoch = 80\n",
    "\n",
    "optimizer = 'Adadelta'"
   ]
  },
  {
   "cell_type": "markdown",
   "metadata": {},
   "source": [
    "# Calculating features"
   ]
  },
  {
   "cell_type": "code",
   "execution_count": 4,
   "metadata": {},
   "outputs": [],
   "source": [
    "# data = read_iemocap_data(params=params)"
   ]
  },
  {
   "cell_type": "code",
   "execution_count": 5,
   "metadata": {
    "scrolled": true
   },
   "outputs": [],
   "source": [
    "# get_features(data, params)"
   ]
  },
  {
   "cell_type": "markdown",
   "metadata": {},
   "source": [
    "# Model definition"
   ]
  },
  {
   "cell_type": "code",
   "execution_count": 6,
   "metadata": {},
   "outputs": [],
   "source": [
    "def build_simple_lstm(nb_feat, nb_class, optimizer='Adadelta'):\n",
    "    model = Sequential()\n",
    "    model.add(LSTM(512, return_sequences=True, input_shape=(32, nb_feat)))\n",
    "    model.add(Activation('tanh'))\n",
    "    model.add(LSTM(256, return_sequences=False))\n",
    "    model.add(Activation('tanh'))\n",
    "    model.add(Dense(512))\n",
    "    model.add(Activation('tanh'))\n",
    "    model.add(Dense(nb_class))\n",
    "    model.add(Activation('softmax'))\n",
    "\n",
    "    model.compile(loss='categorical_crossentropy', optimizer=optimizer, metrics=['accuracy'])\n",
    "\n",
    "    return model"
   ]
  },
  {
   "cell_type": "code",
   "execution_count": 7,
   "metadata": {},
   "outputs": [],
   "source": [
    "def build_blstm(nb_feat, nb_class, optimizer='Adadelta'):\n",
    "    net_input = Input(shape=(78, nb_feat))\n",
    "    forward_lstm1  = LSTM(output_dim=64, \n",
    "                          return_sequences=True, \n",
    "                          activation=\"tanh\"\n",
    "                         )(net_input)\n",
    "    backward_lstm1 = LSTM(output_dim=64, \n",
    "                          return_sequences=True, \n",
    "                          activation=\"tanh\", \n",
    "                          go_backwards=True\n",
    "                         )(net_input)\n",
    "    blstm_output1  = Merge(mode='concat')([forward_lstm1, backward_lstm1])\n",
    "    \n",
    "    forward_lstm2  = LSTM(output_dim=64, \n",
    "                          return_sequences=False, \n",
    "                          activation=\"tanh\"\n",
    "                         )(blstm_output1)\n",
    "    backward_lstm2 = LSTM(output_dim=64, \n",
    "                          return_sequences=False, \n",
    "                          activation=\"tanh\", \n",
    "                          go_backwards=True\n",
    "                         )(blstm_output1)\n",
    "    blstm_output2  = Merge(mode='concat')([forward_lstm2, backward_lstm2])\n",
    "    hidden = Dense(512, activation='tanh')(blstm_output2)\n",
    "    output = Dense(nb_class, activation='softmax')(hidden)\n",
    "    model  = Model(net_input, output)\n",
    "    \n",
    "    model.compile(loss=\"categorical_crossentropy\", optimizer=optimizer, metrics=['accuracy'])\n",
    "    \n",
    "    return model"
   ]
  },
  {
   "cell_type": "markdown",
   "metadata": {},
   "source": [
    "# Model building"
   ]
  },
  {
   "cell_type": "code",
   "execution_count": 8,
   "metadata": {},
   "outputs": [
    {
     "name": "stdout",
     "output_type": "stream",
     "text": [
      "_________________________________________________________________\n",
      "Layer (type)                 Output Shape              Param #   \n",
      "=================================================================\n",
      "lstm_1 (LSTM)                (None, 32, 512)           1120256   \n",
      "_________________________________________________________________\n",
      "activation_1 (Activation)    (None, 32, 512)           0         \n",
      "_________________________________________________________________\n",
      "lstm_2 (LSTM)                (None, 256)               787456    \n",
      "_________________________________________________________________\n",
      "activation_2 (Activation)    (None, 256)               0         \n",
      "_________________________________________________________________\n",
      "dense_1 (Dense)              (None, 512)               131584    \n",
      "_________________________________________________________________\n",
      "activation_3 (Activation)    (None, 512)               0         \n",
      "_________________________________________________________________\n",
      "dense_2 (Dense)              (None, 4)                 2052      \n",
      "_________________________________________________________________\n",
      "activation_4 (Activation)    (None, 4)                 0         \n",
      "=================================================================\n",
      "Total params: 2,041,348\n",
      "Trainable params: 2,041,348\n",
      "Non-trainable params: 0\n",
      "_________________________________________________________________\n"
     ]
    }
   ],
   "source": [
    "model = build_simple_lstm(nb_feat, nb_class)\n",
    "model.summary()"
   ]
  },
  {
   "cell_type": "markdown",
   "metadata": {},
   "source": [
    "# Data preparation"
   ]
  },
  {
   "cell_type": "code",
   "execution_count": 21,
   "metadata": {},
   "outputs": [
    {
     "name": "stdout",
     "output_type": "stream",
     "text": [
      "4936\n"
     ]
    }
   ],
   "source": [
    "# X, y, valid_idxs = get_sample(ids=None, take_all=True)\n",
    "mX_test, my_test, mX_train, my_train, mX_val, my_val = get_all_samples(gender = 'M')\n",
    "my_train = to_categorical(my_train, params)\n",
    "my_test = to_categorical(my_test, params)\n",
    "my_val = to_categorical(my_val, params)\n",
    "\n",
    "# idxs_train, idxs_test = train_test_split(range(X.shape[0]), test_size=0.2)"
   ]
  },
  {
   "cell_type": "code",
   "execution_count": 22,
   "metadata": {},
   "outputs": [],
   "source": [
    "mX_test, _ = pad_sequence_into_array(mX_test, maxlen=32)\n",
    "mX_train, _ = pad_sequence_into_array(mX_train, maxlen=32)\n",
    "mX_val, _ = pad_sequence_into_array(mX_val, maxlen=32)"
   ]
  },
  {
   "cell_type": "code",
   "execution_count": 20,
   "metadata": {},
   "outputs": [
    {
     "name": "stdout",
     "output_type": "stream",
     "text": [
      "(585,)\n",
      "(585, 4)\n",
      "(1560, 4)\n",
      "(1560, 4)\n",
      "(469,)\n",
      "(469,)\n"
     ]
    }
   ],
   "source": [
    "# X_train,  = X[idxs_train], X[idxs_test]\n",
    "# # y_train, y_test = y[idxs_train], y[idxs_test]\n",
    "# print(X_test.shape)\n",
    "# print(y_test.shape)\n",
    "# print(y_train.shape)\n",
    "# print(y_train.shape)\n",
    "# print(X_val.shape)\n",
    "# print(y_val.shape)\n"
   ]
  },
  {
   "cell_type": "markdown",
   "metadata": {},
   "source": [
    "# Training"
   ]
  },
  {
   "cell_type": "code",
   "execution_count": 25,
   "metadata": {
    "scrolled": true
   },
   "outputs": [
    {
     "name": "stderr",
     "output_type": "stream",
     "text": [
      "C:\\Users\\gabri\\Anaconda3\\envs\\speech2emotion\\lib\\site-packages\\keras\\models.py:981: UserWarning: The `nb_epoch` argument in `fit` has been renamed `epochs`.\n",
      "  warnings.warn('The `nb_epoch` argument in `fit` '\n"
     ]
    },
    {
     "name": "stdout",
     "output_type": "stream",
     "text": [
      "Train on 1560 samples, validate on 585 samples\n",
      "Epoch 1/80\n",
      "1560/1560 [==============================] - 16s 11ms/step - loss: 1.2276 - acc: 0.4410 - val_loss: 1.4096 - val_acc: 0.3915\n",
      "\n",
      "Epoch 00001: val_loss improved from inf to 1.40963, saving model to MALEONLY.hdf5\n",
      "Epoch 2/80\n",
      "1560/1560 [==============================] - 17s 11ms/step - loss: 1.1903 - acc: 0.4583 - val_loss: 1.2537 - val_acc: 0.3880\n",
      "\n",
      "Epoch 00002: val_loss improved from 1.40963 to 1.25366, saving model to MALEONLY.hdf5\n",
      "Epoch 3/80\n",
      "1560/1560 [==============================] - 16s 10ms/step - loss: 1.1485 - acc: 0.4692 - val_loss: 1.2476 - val_acc: 0.3692\n",
      "\n",
      "Epoch 00003: val_loss improved from 1.25366 to 1.24761, saving model to MALEONLY.hdf5\n",
      "Epoch 4/80\n",
      "1560/1560 [==============================] - 16s 10ms/step - loss: 1.0923 - acc: 0.4962 - val_loss: 1.2082 - val_acc: 0.4359\n",
      "\n",
      "Epoch 00004: val_loss improved from 1.24761 to 1.20821, saving model to MALEONLY.hdf5\n",
      "Epoch 5/80\n",
      "1560/1560 [==============================] - 16s 11ms/step - loss: 1.0988 - acc: 0.5032 - val_loss: 1.2773 - val_acc: 0.3932\n",
      "\n",
      "Epoch 00005: val_loss did not improve from 1.20821\n",
      "Epoch 6/80\n",
      "1560/1560 [==============================] - 16s 10ms/step - loss: 1.0478 - acc: 0.5154 - val_loss: 1.2801 - val_acc: 0.4068\n",
      "\n",
      "Epoch 00006: val_loss did not improve from 1.20821\n",
      "Epoch 7/80\n",
      "1560/1560 [==============================] - 16s 11ms/step - loss: 1.0440 - acc: 0.5256 - val_loss: 1.2103 - val_acc: 0.4479\n",
      "\n",
      "Epoch 00007: val_loss did not improve from 1.20821\n",
      "Epoch 8/80\n",
      "1560/1560 [==============================] - 16s 10ms/step - loss: 1.0296 - acc: 0.5327 - val_loss: 1.3034 - val_acc: 0.4359\n",
      "\n",
      "Epoch 00008: val_loss did not improve from 1.20821\n",
      "Epoch 9/80\n",
      "1560/1560 [==============================] - 16s 11ms/step - loss: 1.0087 - acc: 0.5481 - val_loss: 1.1766 - val_acc: 0.4838\n",
      "\n",
      "Epoch 00009: val_loss improved from 1.20821 to 1.17659, saving model to MALEONLY.hdf5\n",
      "Epoch 10/80\n",
      "1560/1560 [==============================] - 17s 11ms/step - loss: 1.0079 - acc: 0.5558 - val_loss: 1.5147 - val_acc: 0.3795\n",
      "\n",
      "Epoch 00010: val_loss did not improve from 1.17659\n",
      "Epoch 11/80\n",
      "1560/1560 [==============================] - 16s 11ms/step - loss: 0.9996 - acc: 0.5513 - val_loss: 1.4958 - val_acc: 0.3145\n",
      "\n",
      "Epoch 00011: val_loss did not improve from 1.17659\n",
      "Epoch 12/80\n",
      "1560/1560 [==============================] - 16s 10ms/step - loss: 0.9974 - acc: 0.5526 - val_loss: 1.2825 - val_acc: 0.4444\n",
      "\n",
      "Epoch 00012: val_loss did not improve from 1.17659\n",
      "Epoch 13/80\n",
      "1560/1560 [==============================] - 17s 11ms/step - loss: 0.9861 - acc: 0.5538 - val_loss: 1.1278 - val_acc: 0.5162\n",
      "\n",
      "Epoch 00013: val_loss improved from 1.17659 to 1.12782, saving model to MALEONLY.hdf5\n",
      "Epoch 14/80\n",
      "1560/1560 [==============================] - 17s 11ms/step - loss: 0.9747 - acc: 0.5769 - val_loss: 1.4093 - val_acc: 0.3538\n",
      "\n",
      "Epoch 00014: val_loss did not improve from 1.12782\n",
      "Epoch 15/80\n",
      "1560/1560 [==============================] - 16s 11ms/step - loss: 0.9661 - acc: 0.5782 - val_loss: 1.2249 - val_acc: 0.4205\n",
      "\n",
      "Epoch 00015: val_loss did not improve from 1.12782\n",
      "Epoch 16/80\n",
      "1560/1560 [==============================] - 17s 11ms/step - loss: 0.9826 - acc: 0.5673 - val_loss: 1.3439 - val_acc: 0.4530\n",
      "\n",
      "Epoch 00016: val_loss did not improve from 1.12782\n",
      "Epoch 17/80\n",
      "1560/1560 [==============================] - 17s 11ms/step - loss: 0.9593 - acc: 0.5974 - val_loss: 1.2638 - val_acc: 0.4496\n",
      "\n",
      "Epoch 00017: val_loss did not improve from 1.12782\n",
      "Epoch 18/80\n",
      "1560/1560 [==============================] - 17s 11ms/step - loss: 0.9441 - acc: 0.5801 - val_loss: 1.1811 - val_acc: 0.4889\n",
      "\n",
      "Epoch 00018: val_loss did not improve from 1.12782\n",
      "Epoch 19/80\n",
      "1560/1560 [==============================] - 17s 11ms/step - loss: 0.9467 - acc: 0.5788 - val_loss: 1.3258 - val_acc: 0.4188\n",
      "\n",
      "Epoch 00019: val_loss did not improve from 1.12782\n",
      "Epoch 20/80\n",
      "1560/1560 [==============================] - 17s 11ms/step - loss: 0.9374 - acc: 0.5936 - val_loss: 1.1624 - val_acc: 0.4957\n",
      "\n",
      "Epoch 00020: val_loss did not improve from 1.12782\n",
      "Epoch 21/80\n",
      "1560/1560 [==============================] - 17s 11ms/step - loss: 0.9316 - acc: 0.6000 - val_loss: 1.3260 - val_acc: 0.4154\n",
      "\n",
      "Epoch 00021: val_loss did not improve from 1.12782\n",
      "Epoch 22/80\n",
      "1560/1560 [==============================] - 17s 11ms/step - loss: 0.9392 - acc: 0.5910 - val_loss: 1.2238 - val_acc: 0.4479\n",
      "\n",
      "Epoch 00022: val_loss did not improve from 1.12782\n",
      "Epoch 23/80\n",
      "1560/1560 [==============================] - 17s 11ms/step - loss: 0.9198 - acc: 0.6038 - val_loss: 1.3374 - val_acc: 0.3880\n",
      "\n",
      "Epoch 00023: val_loss did not improve from 1.12782\n",
      "Epoch 24/80\n",
      "1560/1560 [==============================] - 17s 11ms/step - loss: 0.9158 - acc: 0.6128 - val_loss: 1.3010 - val_acc: 0.4581\n",
      "\n",
      "Epoch 00024: val_loss did not improve from 1.12782\n",
      "Epoch 25/80\n",
      "1560/1560 [==============================] - 17s 11ms/step - loss: 0.9021 - acc: 0.6109 - val_loss: 1.2007 - val_acc: 0.4821\n",
      "\n",
      "Epoch 00025: val_loss did not improve from 1.12782\n",
      "Epoch 26/80\n",
      "1560/1560 [==============================] - 17s 11ms/step - loss: 0.9010 - acc: 0.6064 - val_loss: 1.1921 - val_acc: 0.4786\n",
      "\n",
      "Epoch 00026: val_loss did not improve from 1.12782\n",
      "Epoch 27/80\n",
      "1560/1560 [==============================] - 17s 11ms/step - loss: 0.8976 - acc: 0.6186 - val_loss: 1.5175 - val_acc: 0.3812\n",
      "\n",
      "Epoch 00027: val_loss did not improve from 1.12782\n",
      "Epoch 28/80\n",
      "1560/1560 [==============================] - 17s 11ms/step - loss: 0.8794 - acc: 0.6263 - val_loss: 1.2876 - val_acc: 0.4068\n",
      "\n",
      "Epoch 00028: val_loss did not improve from 1.12782\n",
      "Epoch 29/80\n",
      "1560/1560 [==============================] - 17s 11ms/step - loss: 0.8611 - acc: 0.6301 - val_loss: 1.2374 - val_acc: 0.4821\n",
      "\n",
      "Epoch 00029: val_loss did not improve from 1.12782\n",
      "Epoch 30/80\n",
      "1560/1560 [==============================] - 17s 11ms/step - loss: 0.8778 - acc: 0.6276 - val_loss: 1.2810 - val_acc: 0.3949\n",
      "\n",
      "Epoch 00030: val_loss did not improve from 1.12782\n",
      "Epoch 31/80\n",
      "1560/1560 [==============================] - 17s 11ms/step - loss: 0.8573 - acc: 0.6436 - val_loss: 1.2039 - val_acc: 0.4872\n",
      "\n",
      "Epoch 00031: val_loss did not improve from 1.12782\n",
      "Epoch 32/80\n",
      "1560/1560 [==============================] - 17s 11ms/step - loss: 0.8454 - acc: 0.6436 - val_loss: 1.4338 - val_acc: 0.4171\n",
      "\n",
      "Epoch 00032: val_loss did not improve from 1.12782\n",
      "Epoch 33/80\n",
      "1560/1560 [==============================] - 17s 11ms/step - loss: 0.8528 - acc: 0.6474 - val_loss: 1.2452 - val_acc: 0.4547\n",
      "\n",
      "Epoch 00033: val_loss did not improve from 1.12782\n"
     ]
    }
   ],
   "source": [
    "early_stopping = EarlyStopping(monitor='val_loss', patience=20) \n",
    "checkpointer = ModelCheckpoint(filepath='MALEONLY.hdf5', verbose=1, save_best_only=True)\n",
    "\n",
    "    \n",
    "hist = model.fit(mX_train, my_train, \n",
    "                 batch_size=batch_size, nb_epoch=nb_epoch, verbose=1, \n",
    "                 validation_data=(mX_test, my_test),  callbacks=[early_stopping, checkpointer])"
   ]
  },
  {
   "cell_type": "code",
   "execution_count": 26,
   "metadata": {},
   "outputs": [
    {
     "name": "stdout",
     "output_type": "stream",
     "text": [
      "dict_keys(['val_loss', 'acc', 'val_acc', 'loss'])\n"
     ]
    },
    {
     "data": {
      "image/png": "[encoded data removed]",
      "text/plain": [
       "<Figure size 432x288 with 1 Axes>"
      ]
     },
     "metadata": {},
     "output_type": "display_data"
    },
    {
     "data": {
      "image/png": "[encoded data removed]",
      "text/plain": [
       "<Figure size 432x288 with 1 Axes>"
      ]
     },
     "metadata": {},
     "output_type": "display_data"
    }
   ],
   "source": [
    "history = hist\n",
    "print(history.history.keys())\n",
    "# summarize history for accuracy\n",
    "plt.plot(history.history['acc'])\n",
    "plt.plot(history.history['val_acc'])\n",
    "plt.title('model accuracy')\n",
    "plt.ylabel('accuracy')\n",
    "plt.xlabel('epoch')\n",
    "plt.legend(['train', 'test'], loc='upper left')\n",
    "plt.show()\n",
    "# summarize history for loss\n",
    "plt.plot(history.history['loss'])\n",
    "plt.plot(history.history['val_loss'])\n",
    "plt.title('model loss')\n",
    "plt.ylabel('loss')\n",
    "plt.xlabel('epoch')\n",
    "plt.legend(['train', 'test'], loc='upper left')\n",
    "plt.show()"
   ]
  },
  {
   "cell_type": "code",
   "execution_count": null,
   "metadata": {},
   "outputs": [],
   "source": [
    "print(len(test_x))"
   ]
  }
 ],
 "metadata": {
  "anaconda-cloud": {},
  "kernelspec": {
   "display_name": "Python 3",
   "language": "python",
   "name": "python3"
  },
  "language_info": {
   "codemirror_mode": {
    "name": "ipython",
    "version": 3
   },
   "file_extension": ".py",
   "mimetype": "text/x-python",
   "name": "python",
   "nbconvert_exporter": "python",
   "pygments_lexer": "ipython3",
   "version": "3.5.5"
  }
 },
 "nbformat": 4,
 "nbformat_minor": 1
}

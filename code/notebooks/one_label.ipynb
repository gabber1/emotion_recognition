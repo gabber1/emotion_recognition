{
 "cells": [
  {
   "cell_type": "code",
   "execution_count": 1,
   "metadata": {},
   "outputs": [
    {
     "name": "stderr",
     "output_type": "stream",
     "text": [
      "C:\\Users\\gabri\\Anaconda3\\envs\\speech2emotion\\lib\\site-packages\\sklearn\\cross_validation.py:41: DeprecationWarning: This module was deprecated in version 0.18 in favor of the model_selection module into which all the refactored classes and functions are moved. Also note that the interface of the new CV iterators are different from that of this module. This module will be removed in 0.20.\n",
      "  \"This module will be removed in 0.20.\", DeprecationWarning)\n",
      "C:\\Users\\gabri\\Anaconda3\\envs\\speech2emotion\\lib\\site-packages\\sklearn\\grid_search.py:42: DeprecationWarning: This module was deprecated in version 0.18 in favor of the model_selection module into which all the refactored classes and functions are moved. This module will be removed in 0.20.\n",
      "  DeprecationWarning)\n",
      "C:\\Users\\gabri\\Anaconda3\\envs\\speech2emotion\\lib\\site-packages\\h5py\\__init__.py:36: FutureWarning: Conversion of the second argument of issubdtype from `float` to `np.floating` is deprecated. In future, it will be treated as `np.float64 == np.dtype(float).type`.\n",
      "  from ._conv import register_converters as _register_converters\n",
      "Using TensorFlow backend.\n"
     ]
    }
   ],
   "source": [
    "import os\n",
    "import sys\n",
    "import csv\n",
    "import wave\n",
    "import copy\n",
    "import math\n",
    "\n",
    "import numpy as np\n",
    "import pandas as pd\n",
    "\n",
    "from sklearn.preprocessing import label_binarize\n",
    "from sklearn.cross_validation import StratifiedKFold, KFold, train_test_split\n",
    "from sklearn.svm import OneClassSVM, SVC\n",
    "from sklearn.ensemble import RandomForestClassifier\n",
    "from sklearn.grid_search import GridSearchCV\n",
    "from sklearn.manifold import TSNE\n",
    "from sklearn.decomposition import PCA\n",
    "\n",
    "from keras.models import Sequential, Model\n",
    "from keras.layers.core import Dense, Activation\n",
    "from keras.layers import LSTM, Input, Merge, Dropout\n",
    "from keras.layers.wrappers import TimeDistributed\n",
    "from keras.optimizers import SGD, Adam, RMSprop\n",
    "from keras.callbacks import EarlyStopping, ModelCheckpoint\n",
    "\n",
    "sys.path.append(\"../\")\n",
    "from utilities.utils import *\n",
    "\n",
    "import matplotlib\n",
    "import matplotlib.pyplot as plt\n",
    "import matplotlib.ticker as ticker\n",
    "%matplotlib inline\n",
    "\n",
    "from IPython.display import clear_output"
   ]
  },
  {
   "cell_type": "code",
   "execution_count": 2,
   "metadata": {},
   "outputs": [
    {
     "name": "stdout",
     "output_type": "stream",
     "text": [
      "----------------------------------------------------------------------------------------------------\n",
      "available_emotions            ['ang' 'exc' 'neu' 'sad']                                             \n",
      "conf_matrix_prefix            iemocap                                                               \n",
      "framerate                     16000                                                                 \n",
      "path_to_data                  C:\\Users\\gabri\\Documents\\Deeplearning\\somegit\\forked\\emotion_recogniti\n",
      "path_to_features              C:\\Users\\gabri\\Documents\\Deeplearning\\somegit\\forked\\emotion_recogniti\n",
      "sessions                      ['Session1', 'Session2', 'Session3', 'Session4', 'Session5']          \n",
      "types                         {1: <class 'numpy.int8'>, 2: <class 'numpy.int16'>, 4: <class 'numpy.i\n",
      "----------------------------------------------------------------------------------------------------\n"
     ]
    }
   ],
   "source": [
    "params = Constants()\n",
    "print(params)"
   ]
  },
  {
   "cell_type": "code",
   "execution_count": 3,
   "metadata": {},
   "outputs": [],
   "source": [
    "batch_size = 64\n",
    "nb_feat = 34\n",
    "nb_class = 4\n",
    "nb_epoch = 80\n",
    "\n",
    "optimizer = 'Adadelta'"
   ]
  },
  {
   "cell_type": "markdown",
   "metadata": {},
   "source": [
    "# Calculating features"
   ]
  },
  {
   "cell_type": "code",
   "execution_count": 4,
   "metadata": {},
   "outputs": [],
   "source": [
    "# data = read_iemocap_data(params=params)"
   ]
  },
  {
   "cell_type": "code",
   "execution_count": 5,
   "metadata": {
    "scrolled": true
   },
   "outputs": [],
   "source": [
    "# get_features(data, params)"
   ]
  },
  {
   "cell_type": "markdown",
   "metadata": {},
   "source": [
    "# Model definition"
   ]
  },
  {
   "cell_type": "code",
   "execution_count": 6,
   "metadata": {},
   "outputs": [],
   "source": [
    "def build_simple_lstm(nb_feat, nb_class, optimizer='Adadelta'):\n",
    "    model = Sequential()\n",
    "    model.add(LSTM(512, return_sequences=True, input_shape=(25, nb_feat)))\n",
    "    model.add(Activation('tanh'))\n",
    "    model.add(LSTM(256, return_sequences=False))\n",
    "    model.add(Activation('tanh'))\n",
    "    model.add(Dropout(0.3))\n",
    "    model.add(Dense(512))\n",
    "    model.add(Activation('tanh'))\n",
    "    model.add(Dropout(0.3))\n",
    "    model.add(Dense(512))\n",
    "    model.add(dropout(0.3))\n",
    "    model.add(Activation('tanh'))\n",
    "    model.add(Dense(nb_class))\n",
    "    model.add(Activation('softmax'))\n",
    "\n",
    "    model.compile(loss='categorical_crossentropy', optimizer=optimizer, metrics=['accuracy'])\n",
    "\n",
    "    return model"
   ]
  },
  {
   "cell_type": "code",
   "execution_count": 7,
   "metadata": {},
   "outputs": [],
   "source": [
    "def build_blstm(nb_feat, nb_class, optimizer='Adadelta'):\n",
    "    net_input = Input(shape=(78, nb_feat))\n",
    "    forward_lstm1  = LSTM(output_dim=64, \n",
    "                          return_sequences=True, \n",
    "                          activation=\"tanh\"\n",
    "                         )(net_input)\n",
    "    backward_lstm1 = LSTM(output_dim=64, \n",
    "                          return_sequences=True, \n",
    "                          activation=\"tanh\", \n",
    "                          go_backwards=True\n",
    "                         )(net_input)\n",
    "    blstm_output1  = Merge(mode='concat')([forward_lstm1, backward_lstm1])\n",
    "    \n",
    "    forward_lstm2  = LSTM(output_dim=64, \n",
    "                          return_sequences=False, \n",
    "                          activation=\"tanh\"\n",
    "                         )(blstm_output1)\n",
    "    backward_lstm2 = LSTM(output_dim=64, \n",
    "                          return_sequences=False, \n",
    "                          activation=\"tanh\", \n",
    "                          go_backwards=True\n",
    "                         )(blstm_output1)\n",
    "    blstm_output2  = Merge(mode='concat')([forward_lstm2, backward_lstm2])\n",
    "    hidden = Dense(512, activation='tanh')(blstm_output2)\n",
    "    output = Dense(nb_class, activation='softmax')(hidden)\n",
    "    model  = Model(net_input, output)\n",
    "    \n",
    "    model.compile(loss=\"categorical_crossentropy\", optimizer=optimizer, metrics=['accuracy'])\n",
    "    \n",
    "    return model"
   ]
  },
  {
   "cell_type": "markdown",
   "metadata": {},
   "source": [
    "# Model building"
   ]
  },
  {
   "cell_type": "code",
   "execution_count": 8,
   "metadata": {},
   "outputs": [
    {
     "name": "stdout",
     "output_type": "stream",
     "text": [
      "_________________________________________________________________\n",
      "Layer (type)                 Output Shape              Param #   \n",
      "=================================================================\n",
      "lstm_1 (LSTM)                (None, 25, 512)           1120256   \n",
      "_________________________________________________________________\n",
      "activation_1 (Activation)    (None, 25, 512)           0         \n",
      "_________________________________________________________________\n",
      "lstm_2 (LSTM)                (None, 256)               787456    \n",
      "_________________________________________________________________\n",
      "activation_2 (Activation)    (None, 256)               0         \n",
      "_________________________________________________________________\n",
      "dropout_1 (Dropout)          (None, 256)               0         \n",
      "_________________________________________________________________\n",
      "dense_1 (Dense)              (None, 512)               131584    \n",
      "_________________________________________________________________\n",
      "dropout_2 (Dropout)          (None, 512)               0         \n",
      "_________________________________________________________________\n",
      "activation_3 (Activation)    (None, 512)               0         \n",
      "_________________________________________________________________\n",
      "dense_2 (Dense)              (None, 4)                 2052      \n",
      "_________________________________________________________________\n",
      "activation_4 (Activation)    (None, 4)                 0         \n",
      "=================================================================\n",
      "Total params: 2,041,348\n",
      "Trainable params: 2,041,348\n",
      "Non-trainable params: 0\n",
      "_________________________________________________________________\n"
     ]
    }
   ],
   "source": [
    "# optimizer = \n",
    "model = build_simple_lstm(nb_feat, nb_class)\n",
    "model.summary()"
   ]
  },
  {
   "cell_type": "markdown",
   "metadata": {},
   "source": [
    "# Data preparation"
   ]
  },
  {
   "cell_type": "code",
   "execution_count": 9,
   "metadata": {},
   "outputs": [
    {
     "name": "stdout",
     "output_type": "stream",
     "text": [
      "4936\n"
     ]
    }
   ],
   "source": [
    "# X, y, valid_idxs = get_sample(ids=None, take_all=True)\n",
    "mX_test, my_test, mX_train, my_train, mX_val, my_val = get_all_samples(gender = 'M')\n",
    "my_train = to_categorical(my_train, params)\n",
    "my_test = to_categorical(my_test, params)\n",
    "my_val = to_categorical(my_val, params)\n",
    "\n",
    "# idxs_train, idxs_test = train_test_split(range(X.shape[0]), test_size=0.2)"
   ]
  },
  {
   "cell_type": "code",
   "execution_count": 10,
   "metadata": {},
   "outputs": [],
   "source": [
    "mX_test, _ = pad_sequence_into_array(mX_test, maxlen=25)\n",
    "mX_train, _ = pad_sequence_into_array(mX_train, maxlen=25)\n",
    "mX_val, _ = pad_sequence_into_array(mX_val, maxlen=16)"
   ]
  },
  {
   "cell_type": "code",
   "execution_count": 11,
   "metadata": {},
   "outputs": [],
   "source": [
    "# X_train,  = X[idxs_train], X[idxs_test]\n",
    "# # y_train, y_test = y[idxs_train], y[idxs_test]\n",
    "# print(X_test.shape)\n",
    "# print(y_test.shape)\n",
    "# print(y_train.shape)\n",
    "# print(y_train.shape)\n",
    "# print(X_val.shape)\n",
    "# print(y_val.shape)\n"
   ]
  },
  {
   "cell_type": "markdown",
   "metadata": {},
   "source": [
    "# Training"
   ]
  },
  {
   "cell_type": "code",
   "execution_count": 12,
   "metadata": {
    "scrolled": true
   },
   "outputs": [
    {
     "name": "stderr",
     "output_type": "stream",
     "text": [
      "C:\\Users\\gabri\\Anaconda3\\envs\\speech2emotion\\lib\\site-packages\\keras\\models.py:981: UserWarning: The `nb_epoch` argument in `fit` has been renamed `epochs`.\n",
      "  warnings.warn('The `nb_epoch` argument in `fit` '\n"
     ]
    },
    {
     "name": "stdout",
     "output_type": "stream",
     "text": [
      "Train on 1560 samples, validate on 585 samples\n",
      "Epoch 1/80\n",
      "1560/1560 [==============================] - 19s 12ms/step - loss: 1.4593 - acc: 0.3481 - val_loss: 1.4886 - val_acc: 0.2786\n",
      "\n",
      "Epoch 00001: val_loss improved from inf to 1.48859, saving model to MALEONLY.hdf5\n",
      "Epoch 2/80\n",
      "1560/1560 [==============================] - 14s 9ms/step - loss: 1.3333 - acc: 0.3846 - val_loss: 1.4073 - val_acc: 0.2410\n",
      "\n",
      "Epoch 00002: val_loss improved from 1.48859 to 1.40732, saving model to MALEONLY.hdf5\n",
      "Epoch 3/80\n",
      "1560/1560 [==============================] - 14s 9ms/step - loss: 1.3152 - acc: 0.3853 - val_loss: 1.3234 - val_acc: 0.3658\n",
      "\n",
      "Epoch 00003: val_loss improved from 1.40732 to 1.32338, saving model to MALEONLY.hdf5\n",
      "Epoch 4/80\n",
      "1560/1560 [==============================] - 14s 9ms/step - loss: 1.3013 - acc: 0.3981 - val_loss: 1.4084 - val_acc: 0.2786\n",
      "\n",
      "Epoch 00004: val_loss did not improve from 1.32338\n",
      "Epoch 5/80\n",
      "1560/1560 [==============================] - 14s 9ms/step - loss: 1.2719 - acc: 0.4186 - val_loss: 1.2282 - val_acc: 0.4154\n",
      "\n",
      "Epoch 00005: val_loss improved from 1.32338 to 1.22816, saving model to MALEONLY.hdf5\n",
      "Epoch 6/80\n",
      "1560/1560 [==============================] - 14s 9ms/step - loss: 1.2034 - acc: 0.4365 - val_loss: 1.4619 - val_acc: 0.3368\n",
      "\n",
      "Epoch 00006: val_loss did not improve from 1.22816\n",
      "Epoch 7/80\n",
      "1560/1560 [==============================] - 14s 9ms/step - loss: 1.1818 - acc: 0.4731 - val_loss: 1.2882 - val_acc: 0.3607\n",
      "\n",
      "Epoch 00007: val_loss did not improve from 1.22816\n",
      "Epoch 8/80\n",
      "1560/1560 [==============================] - 14s 9ms/step - loss: 1.1533 - acc: 0.4609 - val_loss: 1.2219 - val_acc: 0.3863\n",
      "\n",
      "Epoch 00008: val_loss improved from 1.22816 to 1.22189, saving model to MALEONLY.hdf5\n",
      "Epoch 9/80\n",
      "1560/1560 [==============================] - 14s 9ms/step - loss: 1.1143 - acc: 0.5019 - val_loss: 1.4915 - val_acc: 0.3248\n",
      "\n",
      "Epoch 00009: val_loss did not improve from 1.22189\n",
      "Epoch 10/80\n",
      "1560/1560 [==============================] - 16s 10ms/step - loss: 1.0663 - acc: 0.5019 - val_loss: 1.3189 - val_acc: 0.3897\n",
      "\n",
      "Epoch 00010: val_loss did not improve from 1.22189\n",
      "Epoch 11/80\n",
      "1560/1560 [==============================] - 15s 9ms/step - loss: 1.0870 - acc: 0.4865 - val_loss: 1.4918 - val_acc: 0.2872\n",
      "\n",
      "Epoch 00011: val_loss did not improve from 1.22189\n",
      "Epoch 12/80\n",
      "1560/1560 [==============================] - 16s 10ms/step - loss: 1.0647 - acc: 0.5135 - val_loss: 1.3339 - val_acc: 0.3538\n",
      "\n",
      "Epoch 00012: val_loss did not improve from 1.22189\n",
      "Epoch 13/80\n",
      "1560/1560 [==============================] - 15s 10ms/step - loss: 1.0371 - acc: 0.5346 - val_loss: 1.1779 - val_acc: 0.4393\n",
      "\n",
      "Epoch 00013: val_loss improved from 1.22189 to 1.17792, saving model to MALEONLY.hdf5\n",
      "Epoch 14/80\n",
      "1560/1560 [==============================] - 15s 10ms/step - loss: 1.0349 - acc: 0.5455 - val_loss: 1.1633 - val_acc: 0.4872\n",
      "\n",
      "Epoch 00014: val_loss improved from 1.17792 to 1.16328, saving model to MALEONLY.hdf5\n",
      "Epoch 15/80\n",
      "1560/1560 [==============================] - 16s 11ms/step - loss: 1.0341 - acc: 0.5154 - val_loss: 1.3038 - val_acc: 0.3846\n",
      "\n",
      "Epoch 00015: val_loss did not improve from 1.16328\n",
      "Epoch 16/80\n",
      "1560/1560 [==============================] - 17s 11ms/step - loss: 1.0031 - acc: 0.5500 - val_loss: 1.4509 - val_acc: 0.3282\n",
      "\n",
      "Epoch 00016: val_loss did not improve from 1.16328\n",
      "Epoch 17/80\n",
      "1560/1560 [==============================] - 16s 10ms/step - loss: 1.0022 - acc: 0.5532 - val_loss: 1.1538 - val_acc: 0.5026\n",
      "\n",
      "Epoch 00017: val_loss improved from 1.16328 to 1.15384, saving model to MALEONLY.hdf5\n",
      "Epoch 18/80\n",
      "1560/1560 [==============================] - 16s 10ms/step - loss: 1.0045 - acc: 0.5487 - val_loss: 1.2475 - val_acc: 0.4103\n",
      "\n",
      "Epoch 00018: val_loss did not improve from 1.15384\n",
      "Epoch 19/80\n",
      "1560/1560 [==============================] - 16s 10ms/step - loss: 0.9965 - acc: 0.5538 - val_loss: 1.2673 - val_acc: 0.4222\n",
      "\n",
      "Epoch 00019: val_loss did not improve from 1.15384\n",
      "Epoch 20/80\n",
      "1560/1560 [==============================] - 17s 11ms/step - loss: 0.9941 - acc: 0.5583 - val_loss: 1.2746 - val_acc: 0.4034\n",
      "\n",
      "Epoch 00020: val_loss did not improve from 1.15384\n",
      "Epoch 21/80\n",
      "1560/1560 [==============================] - 17s 11ms/step - loss: 0.9789 - acc: 0.5564 - val_loss: 1.4210 - val_acc: 0.4103\n",
      "\n",
      "Epoch 00021: val_loss did not improve from 1.15384\n",
      "Epoch 22/80\n",
      "1560/1560 [==============================] - 17s 11ms/step - loss: 0.9729 - acc: 0.5673 - val_loss: 1.2037 - val_acc: 0.4906\n",
      "\n",
      "Epoch 00022: val_loss did not improve from 1.15384\n",
      "Epoch 23/80\n",
      "1560/1560 [==============================] - 16s 10ms/step - loss: 0.9530 - acc: 0.5737 - val_loss: 1.2095 - val_acc: 0.4838\n",
      "\n",
      "Epoch 00023: val_loss did not improve from 1.15384\n",
      "Epoch 24/80\n",
      "1560/1560 [==============================] - 16s 10ms/step - loss: 0.9659 - acc: 0.5744 - val_loss: 1.3484 - val_acc: 0.4205\n",
      "\n",
      "Epoch 00024: val_loss did not improve from 1.15384\n",
      "Epoch 25/80\n",
      "1560/1560 [==============================] - 16s 10ms/step - loss: 0.9383 - acc: 0.5885 - val_loss: 1.2023 - val_acc: 0.5043\n",
      "\n",
      "Epoch 00025: val_loss did not improve from 1.15384\n",
      "Epoch 26/80\n",
      "1560/1560 [==============================] - 16s 10ms/step - loss: 0.9627 - acc: 0.5731 - val_loss: 1.2375 - val_acc: 0.4581\n",
      "\n",
      "Epoch 00026: val_loss did not improve from 1.15384\n",
      "Epoch 27/80\n",
      "1560/1560 [==============================] - 16s 10ms/step - loss: 0.9518 - acc: 0.5878 - val_loss: 1.1739 - val_acc: 0.4786\n",
      "\n",
      "Epoch 00027: val_loss did not improve from 1.15384\n",
      "Epoch 28/80\n",
      "1560/1560 [==============================] - 15s 9ms/step - loss: 0.9303 - acc: 0.5942 - val_loss: 1.1254 - val_acc: 0.5094\n",
      "\n",
      "Epoch 00028: val_loss improved from 1.15384 to 1.12544, saving model to MALEONLY.hdf5\n",
      "Epoch 29/80\n",
      "1560/1560 [==============================] - 15s 9ms/step - loss: 0.9238 - acc: 0.5955 - val_loss: 1.2171 - val_acc: 0.4564\n",
      "\n",
      "Epoch 00029: val_loss did not improve from 1.12544\n",
      "Epoch 30/80\n",
      "1560/1560 [==============================] - 15s 10ms/step - loss: 0.9274 - acc: 0.6013 - val_loss: 1.3705 - val_acc: 0.4222\n",
      "\n",
      "Epoch 00030: val_loss did not improve from 1.12544\n",
      "Epoch 31/80\n",
      "1560/1560 [==============================] - 16s 10ms/step - loss: 0.9229 - acc: 0.6026 - val_loss: 1.2803 - val_acc: 0.4427\n",
      "\n",
      "Epoch 00031: val_loss did not improve from 1.12544\n",
      "Epoch 32/80\n",
      "1560/1560 [==============================] - 15s 10ms/step - loss: 0.9190 - acc: 0.5974 - val_loss: 1.2932 - val_acc: 0.4632\n",
      "\n",
      "Epoch 00032: val_loss did not improve from 1.12544\n",
      "Epoch 33/80\n",
      "1560/1560 [==============================] - 16s 10ms/step - loss: 0.8922 - acc: 0.6147 - val_loss: 1.3315 - val_acc: 0.4205\n",
      "\n",
      "Epoch 00033: val_loss did not improve from 1.12544\n",
      "Epoch 34/80\n",
      "1560/1560 [==============================] - 15s 10ms/step - loss: 0.9047 - acc: 0.6032 - val_loss: 1.1659 - val_acc: 0.4923\n",
      "\n",
      "Epoch 00034: val_loss did not improve from 1.12544\n",
      "Epoch 35/80\n",
      "1560/1560 [==============================] - 15s 10ms/step - loss: 0.9016 - acc: 0.5936 - val_loss: 1.2807 - val_acc: 0.4598\n",
      "\n",
      "Epoch 00035: val_loss did not improve from 1.12544\n",
      "Epoch 36/80\n",
      "1560/1560 [==============================] - 16s 10ms/step - loss: 0.8657 - acc: 0.6327 - val_loss: 1.5275 - val_acc: 0.3846\n",
      "\n",
      "Epoch 00036: val_loss did not improve from 1.12544\n",
      "Epoch 37/80\n",
      "1560/1560 [==============================] - 16s 10ms/step - loss: 0.8765 - acc: 0.6250 - val_loss: 1.6570 - val_acc: 0.3863\n",
      "\n",
      "Epoch 00037: val_loss did not improve from 1.12544\n",
      "Epoch 38/80\n",
      "1560/1560 [==============================] - 16s 10ms/step - loss: 0.8593 - acc: 0.6449 - val_loss: 1.2667 - val_acc: 0.5009\n",
      "\n",
      "Epoch 00038: val_loss did not improve from 1.12544\n",
      "Epoch 39/80\n",
      "1560/1560 [==============================] - 17s 11ms/step - loss: 0.8629 - acc: 0.6314 - val_loss: 1.5007 - val_acc: 0.4068\n",
      "\n",
      "Epoch 00039: val_loss did not improve from 1.12544\n",
      "Epoch 40/80\n",
      "1560/1560 [==============================] - 16s 10ms/step - loss: 0.8590 - acc: 0.6308 - val_loss: 1.3849 - val_acc: 0.4444\n",
      "\n",
      "Epoch 00040: val_loss did not improve from 1.12544\n",
      "Epoch 41/80\n",
      "1560/1560 [==============================] - 16s 10ms/step - loss: 0.8587 - acc: 0.6308 - val_loss: 1.4457 - val_acc: 0.4667\n",
      "\n",
      "Epoch 00041: val_loss did not improve from 1.12544\n",
      "Epoch 42/80\n",
      "1560/1560 [==============================] - 17s 11ms/step - loss: 0.8269 - acc: 0.6558 - val_loss: 1.2748 - val_acc: 0.4598\n"
     ]
    },
    {
     "name": "stdout",
     "output_type": "stream",
     "text": [
      "\n",
      "Epoch 00042: val_loss did not improve from 1.12544\n",
      "Epoch 43/80\n",
      "1560/1560 [==============================] - 17s 11ms/step - loss: 0.8129 - acc: 0.6692 - val_loss: 1.4412 - val_acc: 0.4342\n",
      "\n",
      "Epoch 00043: val_loss did not improve from 1.12544\n",
      "Epoch 44/80\n",
      "1560/1560 [==============================] - 17s 11ms/step - loss: 0.8104 - acc: 0.6583 - val_loss: 1.4150 - val_acc: 0.4530\n",
      "\n",
      "Epoch 00044: val_loss did not improve from 1.12544\n",
      "Epoch 45/80\n",
      "1560/1560 [==============================] - 17s 11ms/step - loss: 0.7982 - acc: 0.6686 - val_loss: 1.2461 - val_acc: 0.4667\n",
      "\n",
      "Epoch 00045: val_loss did not improve from 1.12544\n",
      "Epoch 46/80\n",
      "1560/1560 [==============================] - 17s 11ms/step - loss: 0.8018 - acc: 0.6679 - val_loss: 1.4990 - val_acc: 0.4188\n",
      "\n",
      "Epoch 00046: val_loss did not improve from 1.12544\n",
      "Epoch 47/80\n",
      "1560/1560 [==============================] - 15s 10ms/step - loss: 0.7646 - acc: 0.6821 - val_loss: 1.3895 - val_acc: 0.4615\n",
      "\n",
      "Epoch 00047: val_loss did not improve from 1.12544\n",
      "Epoch 48/80\n",
      "1560/1560 [==============================] - 14s 9ms/step - loss: 0.7828 - acc: 0.6731 - val_loss: 1.3531 - val_acc: 0.4376\n",
      "\n",
      "Epoch 00048: val_loss did not improve from 1.12544\n"
     ]
    }
   ],
   "source": [
    "early_stopping = EarlyStopping(monitor='val_loss', patience=20) \n",
    "checkpointer = ModelCheckpoint(filepath='MALEONLY.hdf5', verbose=1, save_best_only=True)\n",
    "\n",
    "    \n",
    "hist = model.fit(mX_train, my_train, \n",
    "                 batch_size=batch_size, nb_epoch=nb_epoch, verbose=1, \n",
    "                 validation_data=(mX_test, my_test),  callbacks=[early_stopping, checkpointer])"
   ]
  },
  {
   "cell_type": "code",
   "execution_count": 13,
   "metadata": {},
   "outputs": [
    {
     "name": "stdout",
     "output_type": "stream",
     "text": [
      "dict_keys(['val_acc', 'acc', 'loss', 'val_loss'])\n"
     ]
    },
    {
     "data": {
      "image/png": "[encoded data removed]",
      "text/plain": [
       "<Figure size 432x288 with 1 Axes>"
      ]
     },
     "metadata": {},
     "output_type": "display_data"
    },
    {
     "data": {
      "image/png": "[encoded data removed]",
      "text/plain": [
       "<Figure size 432x288 with 1 Axes>"
      ]
     },
     "metadata": {},
     "output_type": "display_data"
    }
   ],
   "source": [
    "history = hist\n",
    "print(history.history.keys())\n",
    "# summarize history for accuracy\n",
    "plt.plot(history.history['acc'])\n",
    "plt.plot(history.history['val_acc'])\n",
    "plt.title('model accuracy')\n",
    "plt.ylabel('accuracy')\n",
    "plt.xlabel('epoch')\n",
    "plt.legend(['train', 'test'], loc='upper left')\n",
    "plt.show()\n",
    "# summarize history for loss\n",
    "plt.plot(history.history['loss'])\n",
    "plt.plot(history.history['val_loss'])\n",
    "plt.title('model loss')\n",
    "plt.ylabel('loss')\n",
    "plt.xlabel('epoch')\n",
    "plt.legend(['train', 'test'], loc='upper left')\n",
    "plt.show()"
   ]
  },
  {
   "cell_type": "code",
   "execution_count": 14,
   "metadata": {},
   "outputs": [
    {
     "ename": "ValueError",
     "evalue": "Error when checking : expected lstm_1_input to have shape (25, 34) but got array with shape (16, 34)",
     "output_type": "error",
     "traceback": [
      "\u001b[1;31m---------------------------------------------------------------------------\u001b[0m",
      "\u001b[1;31mValueError\u001b[0m                                Traceback (most recent call last)",
      "\u001b[1;32m<ipython-input-14-ec07fd8fe676>\u001b[0m in \u001b[0;36m<module>\u001b[1;34m()\u001b[0m\n\u001b[1;32m----> 1\u001b[1;33m \u001b[0mprint\u001b[0m\u001b[1;33m(\u001b[0m\u001b[0mnp\u001b[0m\u001b[1;33m.\u001b[0m\u001b[0msum\u001b[0m\u001b[1;33m(\u001b[0m\u001b[0mmodel\u001b[0m\u001b[1;33m.\u001b[0m\u001b[0mpredict\u001b[0m\u001b[1;33m(\u001b[0m\u001b[0mx\u001b[0m\u001b[1;33m=\u001b[0m\u001b[0mmX_val\u001b[0m\u001b[1;33m,\u001b[0m\u001b[0mbatch_size\u001b[0m\u001b[1;33m=\u001b[0m\u001b[1;36m1\u001b[0m\u001b[1;33m)\u001b[0m\u001b[1;33m>\u001b[0m \u001b[1;36m1\u001b[0m\u001b[1;33m/\u001b[0m\u001b[1;36m5\u001b[0m\u001b[1;33m,\u001b[0m\u001b[0maxis\u001b[0m\u001b[1;33m=\u001b[0m\u001b[1;36m0\u001b[0m\u001b[1;33m)\u001b[0m\u001b[1;33m)\u001b[0m\u001b[1;33m\u001b[0m\u001b[0m\n\u001b[0m",
      "\u001b[1;32m~\\Anaconda3\\envs\\speech2emotion\\lib\\site-packages\\keras\\models.py\u001b[0m in \u001b[0;36mpredict\u001b[1;34m(self, x, batch_size, verbose, steps)\u001b[0m\n\u001b[0;32m   1062\u001b[0m             \u001b[0mself\u001b[0m\u001b[1;33m.\u001b[0m\u001b[0mbuild\u001b[0m\u001b[1;33m(\u001b[0m\u001b[1;33m)\u001b[0m\u001b[1;33m\u001b[0m\u001b[0m\n\u001b[0;32m   1063\u001b[0m         return self.model.predict(x, batch_size=batch_size, verbose=verbose,\n\u001b[1;32m-> 1064\u001b[1;33m                                   steps=steps)\n\u001b[0m\u001b[0;32m   1065\u001b[0m \u001b[1;33m\u001b[0m\u001b[0m\n\u001b[0;32m   1066\u001b[0m     \u001b[1;32mdef\u001b[0m \u001b[0mpredict_on_batch\u001b[0m\u001b[1;33m(\u001b[0m\u001b[0mself\u001b[0m\u001b[1;33m,\u001b[0m \u001b[0mx\u001b[0m\u001b[1;33m)\u001b[0m\u001b[1;33m:\u001b[0m\u001b[1;33m\u001b[0m\u001b[0m\n",
      "\u001b[1;32m~\\Anaconda3\\envs\\speech2emotion\\lib\\site-packages\\keras\\engine\\training.py\u001b[0m in \u001b[0;36mpredict\u001b[1;34m(self, x, batch_size, verbose, steps)\u001b[0m\n\u001b[0;32m   1815\u001b[0m         x = _standardize_input_data(x, self._feed_input_names,\n\u001b[0;32m   1816\u001b[0m                                     \u001b[0mself\u001b[0m\u001b[1;33m.\u001b[0m\u001b[0m_feed_input_shapes\u001b[0m\u001b[1;33m,\u001b[0m\u001b[1;33m\u001b[0m\u001b[0m\n\u001b[1;32m-> 1817\u001b[1;33m                                     check_batch_axis=False)\n\u001b[0m\u001b[0;32m   1818\u001b[0m         \u001b[1;32mif\u001b[0m \u001b[0mself\u001b[0m\u001b[1;33m.\u001b[0m\u001b[0mstateful\u001b[0m\u001b[1;33m:\u001b[0m\u001b[1;33m\u001b[0m\u001b[0m\n\u001b[0;32m   1819\u001b[0m             \u001b[1;32mif\u001b[0m \u001b[0mx\u001b[0m\u001b[1;33m[\u001b[0m\u001b[1;36m0\u001b[0m\u001b[1;33m]\u001b[0m\u001b[1;33m.\u001b[0m\u001b[0mshape\u001b[0m\u001b[1;33m[\u001b[0m\u001b[1;36m0\u001b[0m\u001b[1;33m]\u001b[0m \u001b[1;33m>\u001b[0m \u001b[0mbatch_size\u001b[0m \u001b[1;32mand\u001b[0m \u001b[0mx\u001b[0m\u001b[1;33m[\u001b[0m\u001b[1;36m0\u001b[0m\u001b[1;33m]\u001b[0m\u001b[1;33m.\u001b[0m\u001b[0mshape\u001b[0m\u001b[1;33m[\u001b[0m\u001b[1;36m0\u001b[0m\u001b[1;33m]\u001b[0m \u001b[1;33m%\u001b[0m \u001b[0mbatch_size\u001b[0m \u001b[1;33m!=\u001b[0m \u001b[1;36m0\u001b[0m\u001b[1;33m:\u001b[0m\u001b[1;33m\u001b[0m\u001b[0m\n",
      "\u001b[1;32m~\\Anaconda3\\envs\\speech2emotion\\lib\\site-packages\\keras\\engine\\training.py\u001b[0m in \u001b[0;36m_standardize_input_data\u001b[1;34m(data, names, shapes, check_batch_axis, exception_prefix)\u001b[0m\n\u001b[0;32m    121\u001b[0m                             \u001b[1;34m': expected '\u001b[0m \u001b[1;33m+\u001b[0m \u001b[0mnames\u001b[0m\u001b[1;33m[\u001b[0m\u001b[0mi\u001b[0m\u001b[1;33m]\u001b[0m \u001b[1;33m+\u001b[0m \u001b[1;34m' to have shape '\u001b[0m \u001b[1;33m+\u001b[0m\u001b[1;33m\u001b[0m\u001b[0m\n\u001b[0;32m    122\u001b[0m                             \u001b[0mstr\u001b[0m\u001b[1;33m(\u001b[0m\u001b[0mshape\u001b[0m\u001b[1;33m)\u001b[0m \u001b[1;33m+\u001b[0m \u001b[1;34m' but got array with shape '\u001b[0m \u001b[1;33m+\u001b[0m\u001b[1;33m\u001b[0m\u001b[0m\n\u001b[1;32m--> 123\u001b[1;33m                             str(data_shape))\n\u001b[0m\u001b[0;32m    124\u001b[0m     \u001b[1;32mreturn\u001b[0m \u001b[0mdata\u001b[0m\u001b[1;33m\u001b[0m\u001b[0m\n\u001b[0;32m    125\u001b[0m \u001b[1;33m\u001b[0m\u001b[0m\n",
      "\u001b[1;31mValueError\u001b[0m: Error when checking : expected lstm_1_input to have shape (25, 34) but got array with shape (16, 34)"
     ]
    }
   ],
   "source": [
    "print(np.sum(model.predict(x=mX_val,batch_size=1)> 1/5,axis=0))\n"
   ]
  }
 ],
 "metadata": {
  "anaconda-cloud": {},
  "kernelspec": {
   "display_name": "Python 3",
   "language": "python",
   "name": "python3"
  },
  "language_info": {
   "codemirror_mode": {
    "name": "ipython",
    "version": 3
   },
   "file_extension": ".py",
   "mimetype": "text/x-python",
   "name": "python",
   "nbconvert_exporter": "python",
   "pygments_lexer": "ipython3",
   "version": "3.5.5"
  }
 },
 "nbformat": 4,
 "nbformat_minor": 1
}
